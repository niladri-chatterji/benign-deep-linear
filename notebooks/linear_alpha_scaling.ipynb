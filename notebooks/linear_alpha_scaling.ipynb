{
 "cells": [
  {
   "cell_type": "code",
   "execution_count": 12,
   "metadata": {},
   "outputs": [
    {
     "ename": "FileNotFoundError",
     "evalue": "[Errno 2] No such file or directory: '/nlp/scr/niladri/deep-linear-networks-OLS/exp_1_alpha_0/result.pickle'",
     "output_type": "error",
     "traceback": [
      "\u001b[0;31m---------------------------------------------------------------------------\u001b[0m",
      "\u001b[0;31mFileNotFoundError\u001b[0m                         Traceback (most recent call last)",
      "\u001b[1;32m/nlp/scr/niladri/deep-linear-networks-OLS/notebooks/linear_alpha_scaling.ipynb Cell 1\u001b[0m in \u001b[0;36m<cell line: 13>\u001b[0;34m()\u001b[0m\n\u001b[1;32m     <a href='vscode-notebook-cell://ssh-remote%2Bjagupard/nlp/scr/niladri/deep-linear-networks-OLS/notebooks/linear_alpha_scaling.ipynb#W6sdnNjb2RlLXJlbW90ZQ%3D%3D?line=12'>13</a>\u001b[0m \u001b[39mfor\u001b[39;00m key \u001b[39min\u001b[39;00m keys:\n\u001b[1;32m     <a href='vscode-notebook-cell://ssh-remote%2Bjagupard/nlp/scr/niladri/deep-linear-networks-OLS/notebooks/linear_alpha_scaling.ipynb#W6sdnNjb2RlLXJlbW90ZQ%3D%3D?line=13'>14</a>\u001b[0m     filename \u001b[39m=\u001b[39m file_root \u001b[39m+\u001b[39m key \u001b[39m+\u001b[39m \u001b[39m'\u001b[39m\u001b[39m/result.pickle\u001b[39m\u001b[39m'\u001b[39m\n\u001b[0;32m---> <a href='vscode-notebook-cell://ssh-remote%2Bjagupard/nlp/scr/niladri/deep-linear-networks-OLS/notebooks/linear_alpha_scaling.ipynb#W6sdnNjb2RlLXJlbW90ZQ%3D%3D?line=15'>16</a>\u001b[0m     \u001b[39mwith\u001b[39;00m (\u001b[39mopen\u001b[39;49m(filename, \u001b[39m\"\u001b[39;49m\u001b[39mrb\u001b[39;49m\u001b[39m\"\u001b[39;49m)) \u001b[39mas\u001b[39;00m file:\n\u001b[1;32m     <a href='vscode-notebook-cell://ssh-remote%2Bjagupard/nlp/scr/niladri/deep-linear-networks-OLS/notebooks/linear_alpha_scaling.ipynb#W6sdnNjb2RlLXJlbW90ZQ%3D%3D?line=16'>17</a>\u001b[0m         results[key] \u001b[39m=\u001b[39m pickle\u001b[39m.\u001b[39mload(file)\n",
      "\u001b[0;31mFileNotFoundError\u001b[0m: [Errno 2] No such file or directory: '/nlp/scr/niladri/deep-linear-networks-OLS/exp_1_alpha_0/result.pickle'"
     ]
    }
   ],
   "source": [
    "import numpy as np\n",
    "import pickle\n",
    "import os\n",
    "\n",
    "\n",
    "\n",
    "file_root = '/nlp/scr/niladri/deep-linear-networks-OLS'\n",
    "\n",
    "results = {}\n",
    "keys = ['0', '1e-2', '1e-3', '1e-4']\n",
    "\n",
    "\n",
    "for key in keys:\n",
    "    filename = 'exp_1_alpha_' + key + '/result.pickle'\n",
    "    \n",
    "    with (open(filename, \"rb\")) as file:\n",
    "        results[key] = pickle.load(file)\n",
    "    "
   ]
  },
  {
   "cell_type": "code",
   "execution_count": null,
   "metadata": {},
   "outputs": [],
   "source": [
    "import seaborn as sns\n",
    "import matplotlib\n",
    "import matplotlib.pyplot as plt\n",
    "import matplotlib.style as style\n",
    "from matplotlib.ticker import FormatStrFormatter\n",
    "\n",
    "palette = ['#E24A33', '#348ABD', '#988ED5', '#777777', '#FBC15E', '#8EBA42', '#FFB5B8']\n",
    "sns.set_palette(palette)\n",
    "\n",
    "\n",
    "plt.rc('text', usetex=True)\n",
    "#style.use('fivethirtyeight')\n",
    "plt.rc('font', family='times')\n",
    "#csfont = {'fontname':'Times New Roman'}\n",
    "plt.rc('xtick', labelsize=18)\n",
    "plt.rc('ytick', labelsize=18)\n",
    "\n",
    "minority_samples=[0,500,1000,1500]\n",
    "minority_samples_both=[0,100,200,300,400,500]\n",
    "majority_samples=[0,500,1000,1500,2000]\n",
    "majority_samples_both=[0,500,1000,1500,2000]\n",
    "\n",
    "fig = plt.figure(figsize=(12, 4))\n",
    "fig.set_facecolor('white')\n",
    "fig.patch.set_facecolor('white')\n",
    "ax1 = fig.add_subplot(1, 2, 1)\n",
    "ax2 = fig.add_subplot(1, 2, 2)\n",
    "ax1.yaxis.set_major_formatter(FormatStrFormatter('%.0f'))\n",
    "ax1.set_facecolor(\"#e1ddbf\")\n",
    "ax2.yaxis.set_major_formatter(FormatStrFormatter('%.0f'))\n",
    "ax2.set_facecolor(\"#e1ddbf\")\n",
    "plt.locator_params(axis=\"y\", nbins=6)\n",
    "\n",
    "ax1.plot(minority_samples,100*vs_min_avg,'^',markersize = 16,markevery=1,linewidth=5,label=\"Only Minority\",linestyle='solid')\n",
    "ax1.plot(minority_samples_both,100*vs_both_avg,'o',markersize = 16,markevery=1,linewidth=5,\n",
    "                             label= \"Proportional Increase\",linestyle='solid',color='#8EBA42')\n",
    "\n",
    "\n",
    "ax2.plot(majority_samples,100*vs_maj_avg,'*',markersize = 16,markevery=1,linewidth=5,\n",
    "                             label=\"Only Majority\",linestyle='solid',color='#348ABD')\n",
    "ax2.plot(majority_samples_both,100*vs_both_avg[:5],'o',markersize = 16,markevery=1,linewidth=5,\n",
    "                             label= \"Proportional Increase\",linestyle='solid',color='#8EBA42')\n",
    "#ax1.plot(poly_both[:,0],'*',markersize = 18,markevery=2,linewidth=5,label=\"Overall\",linestyle='solid')\n",
    "#ax1.vlines(1, 0, 20,linestyle='dashed',alpha=0.3,color='teal')\n",
    "#ax1.vlines(3, 0, 20,linestyle='dashed',alpha=0.3,color='teal')\n",
    "#ax1.plot(a_vals,100*avg_n_perfs,'o',markersize = 10,linewidth=4,label= \"Minority Class Error\",linestyle='dashdot')\n",
    "#ax1.plot(a_vals,100*avg_n_perfs,'o',markersize = 10,linewidth=4,label= \"Minority Class Error\",linestyle='dashdot')\n",
    "\n",
    "\n",
    "ax1.set_facecolor('white')\n",
    "ax2.set_facecolor('white')\n",
    "ax1.grid(True, linewidth=0.3)\n",
    "ax2.grid(True, linewidth=0.3)\n",
    "\n",
    "ax1.set_xlabel('Extra Minority Samples Added',size=20)\n",
    "ax2.set_xlabel('Extra Majority Samples Added',size=20)\n",
    "#ax1.set_xticks([0, 1, 2, 3, 4, 5])\n",
    "\n",
    "ax1.set_ylim(60, 69)\n",
    "ax2.set_ylim(60, 69)\n",
    "\n",
    "fig.suptitle('VS Loss Importance Weighted Classifiers', fontsize=22)\n",
    "ax1.set_ylabel(\"Test Accuracy (\\%)\",size=20)\n",
    "#ax1.set_title(\"Test Error vs. Importance Weight \" r'$(w=\\tau^{\\rho})$',size=18)\n",
    "handles1, labels1 = ax1.get_legend_handles_labels()\n",
    "handles2, labels2 = ax2.get_legend_handles_labels()\n",
    "#handles = [handles[1], handles[2], handles[0]]\n",
    "#labels = [labels[1], labels[2], labels[0]]\n",
    "ax1.legend(handles1, labels1, loc='lower right',prop={'size': 16},facecolor='white')\n",
    "ax2.legend(handles2, labels2, loc='upper left',prop={'size': 16},facecolor='white')\n",
    "#ax1.legend(loc='best',prop={'size': 12},facecolor='white')\n",
    "plt.savefig('vs_loss.png', bbox_inches='tight',dpi=1000)\n",
    "plt.show()"
   ]
  }
 ],
 "metadata": {
  "kernelspec": {
   "display_name": "Python 3.8.10 64-bit",
   "language": "python",
   "name": "python3"
  },
  "language_info": {
   "codemirror_mode": {
    "name": "ipython",
    "version": 3
   },
   "file_extension": ".py",
   "mimetype": "text/x-python",
   "name": "python",
   "nbconvert_exporter": "python",
   "pygments_lexer": "ipython3",
   "version": "3.8.10"
  },
  "orig_nbformat": 4,
  "vscode": {
   "interpreter": {
    "hash": "916dbcbb3f70747c44a77c7bcd40155683ae19c65e1c03b4aa3499c5328201f1"
   }
  }
 },
 "nbformat": 4,
 "nbformat_minor": 2
}
